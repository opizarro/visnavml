{
 "cells": [
  {
   "cell_type": "markdown",
   "metadata": {},
   "source": [
    "preparing labels and imagery for use with tensorflow"
   ]
  },
  {
   "cell_type": "code",
   "execution_count": 2,
   "metadata": {
    "collapsed": false
   },
   "outputs": [],
   "source": [
    "# takes a set of images and labels and prepares a structure that can be fed into\n",
    "# inception v3 (which can handle imagenet 2012 inputs)\n",
    "# this involves\n",
    "# finding the coordinates of labelled points and the corresponding image\n",
    "#  cropping at most 299 x 299 pixels around each labeled point.\n",
    "# storing each cropped image in directories named after the type of label\n",
    "import pandas as pd\n",
    "import os\n",
    "import cv2\n",
    "import numpy as np\n",
    "import matplotlib.pyplot as plt\n",
    "import string\n",
    "import shutil\n",
    "import glob\n",
    "\n",
    "%matplotlib inline"
   ]
  },
  {
   "cell_type": "code",
   "execution_count": 3,
   "metadata": {
    "collapsed": false
   },
   "outputs": [],
   "source": [
    "#training_path = '/Users/opizarro/training_data/max-woodside'\n",
    "source_path = '/Volumes/LZD1601/benthoz2015'\n",
    "\n",
    "def maybe_makedir(dirname, force=False):\n",
    "  if os.path.isdir(dirname) and not force:\n",
    "    # You may override by setting force=True.\n",
    "    #print('%s already present - Skipping making dir' % (dirname))\n",
    "    pass\n",
    "  else:\n",
    "    print('Making dir %s.' % dirname)\n",
    "    os.makedirs(dirname)\n",
    "  return \n",
    "\n",
    "maybe_makedir(source_path)"
   ]
  },
  {
   "cell_type": "code",
   "execution_count": 4,
   "metadata": {
    "collapsed": false
   },
   "outputs": [],
   "source": [
    "image_sheet = '/Volumes/LZD1601/benthoz2015/BENTHOZ-2015-imagelist.csv'"
   ]
  },
  {
   "cell_type": "code",
   "execution_count": 5,
   "metadata": {
    "collapsed": false
   },
   "outputs": [
    {
     "data": {
      "text/html": [
       "<div style=\"max-height:1000px;max-width:1500px;overflow:auto;\">\n",
       "<table border=\"1\" class=\"dataframe\">\n",
       "  <thead>\n",
       "    <tr style=\"text-align: right;\">\n",
       "      <th></th>\n",
       "      <th>image__id</th>\n",
       "      <th>date_time</th>\n",
       "      <th>depth</th>\n",
       "      <th>web_location</th>\n",
       "      <th>latitude</th>\n",
       "      <th>longitude</th>\n",
       "    </tr>\n",
       "  </thead>\n",
       "  <tbody>\n",
       "    <tr>\n",
       "      <th>0</th>\n",
       "      <td> 1597439</td>\n",
       "      <td> 2010-12-17 02:54:03.165976+00:00</td>\n",
       "      <td> 22.3438216144707</td>\n",
       "      <td> PS201012/r20101217_021510_fingal_07_dense_fihp...</td>\n",
       "      <td>  -32.752086495</td>\n",
       "      <td> 152.205822327</td>\n",
       "    </tr>\n",
       "    <tr>\n",
       "      <th>1</th>\n",
       "      <td> 1757524</td>\n",
       "      <td> 2010-11-20 23:42:35.638467+00:00</td>\n",
       "      <td> 29.5299899885026</td>\n",
       "      <td> Batemans201011/r20101120_222627_site2guz_14_de...</td>\n",
       "      <td> -35.5659487041</td>\n",
       "      <td> 150.393561616</td>\n",
       "    </tr>\n",
       "    <tr>\n",
       "      <th>2</th>\n",
       "      <td> 1609621</td>\n",
       "      <td> 2010-12-18 21:30:49.256645+00:00</td>\n",
       "      <td> 27.0973700206649</td>\n",
       "      <td> PS201012/r20101218_202313_broughton_10_dense_b...</td>\n",
       "      <td> -32.6346530703</td>\n",
       "      <td> 152.312306698</td>\n",
       "    </tr>\n",
       "    <tr>\n",
       "      <th>3</th>\n",
       "      <td> 1595383</td>\n",
       "      <td> 2010-12-16 02:10:25.335878+00:00</td>\n",
       "      <td> 29.5453730596857</td>\n",
       "      <td> PS201012/r20101216_013637_fingal_04_dense_fisz...</td>\n",
       "      <td> -32.7536342886</td>\n",
       "      <td> 152.197251187</td>\n",
       "    </tr>\n",
       "    <tr>\n",
       "      <th>4</th>\n",
       "      <td> 1599436</td>\n",
       "      <td> 2010-12-16 02:21:43.387121+00:00</td>\n",
       "      <td> 29.0157579963744</td>\n",
       "      <td> PS201012/r20101216_013637_fingal_04_dense_fisz...</td>\n",
       "      <td> -32.7536020067</td>\n",
       "      <td> 152.197114445</td>\n",
       "    </tr>\n",
       "  </tbody>\n",
       "</table>\n",
       "</div>"
      ],
      "text/plain": [
       "  image__id                         date_time             depth  \\\n",
       "0   1597439  2010-12-17 02:54:03.165976+00:00  22.3438216144707   \n",
       "1   1757524  2010-11-20 23:42:35.638467+00:00  29.5299899885026   \n",
       "2   1609621  2010-12-18 21:30:49.256645+00:00  27.0973700206649   \n",
       "3   1595383  2010-12-16 02:10:25.335878+00:00  29.5453730596857   \n",
       "4   1599436  2010-12-16 02:21:43.387121+00:00  29.0157579963744   \n",
       "\n",
       "                                        web_location        latitude  \\\n",
       "0  PS201012/r20101217_021510_fingal_07_dense_fihp...   -32.752086495   \n",
       "1  Batemans201011/r20101120_222627_site2guz_14_de...  -35.5659487041   \n",
       "2  PS201012/r20101218_202313_broughton_10_dense_b...  -32.6346530703   \n",
       "3  PS201012/r20101216_013637_fingal_04_dense_fisz...  -32.7536342886   \n",
       "4  PS201012/r20101216_013637_fingal_04_dense_fisz...  -32.7536020067   \n",
       "\n",
       "       longitude  \n",
       "0  152.205822327  \n",
       "1  150.393561616  \n",
       "2  152.312306698  \n",
       "3  152.197251187  \n",
       "4  152.197114445  "
      ]
     },
     "execution_count": 5,
     "metadata": {},
     "output_type": "execute_result"
    }
   ],
   "source": [
    "df = pd.read_csv(image_sheet)\n",
    "df.columns\n",
    "df.head()"
   ]
  },
  {
   "cell_type": "code",
   "execution_count": 10,
   "metadata": {
    "collapsed": false
   },
   "outputs": [],
   "source": [
    "#survey_sheet = '/Users/opizarro/max-woodside/QN01/MSA157-40_QN01.xls'\n",
    "#images_location = '/Users/opizarro/max-woodside/QN01/Stations'\n",
    "\n",
    "server_loc = '/media/water/PROCESSED_DATA'\n",
    "\n",
    "def get_images(image_sheet,images_location):\n",
    "    #df = pd.read_excel(survey_sheet)\n",
    "    df = pd.read_csv(image_sheet)\n",
    "    df.head()\n",
    "       \n",
    "    \n",
    "   \n",
    "    for row in df.iterrows():\n",
    "    #print(row[1])\n",
    "    # read image\n",
    "        imagename = os.path.basename(row[1].web_location)\n",
    "        campaign_name = string.split(row[1].web_location,'/')[0]\n",
    "        dirimagename = os.path.join(images_location,campaign_name)\n",
    "        maybe_makedir(dirimagename)\n",
    "        \n",
    "        try:\n",
    "            sourcename = string.replace(row[1].web_location,\"images\",\"i2*cv\")\n",
    "            fullsourcename = glob.glob(os.path.join(server_loc,sourcename))[0]\n",
    "            if os.path.isfile(fullsourcename):\n",
    "            \n",
    "                shutil.copy(fullsourcename,dirimagename)\n",
    "            \n",
    "                if row[0]%1000 == 0:\n",
    "                    print(\"processing entry \" + str(row[0]) + \"\\r\")\n",
    "                    print('from %s ---> %s') % (fullsourcename,dirimagename)\n",
    "            else:\n",
    "                print('**** WARNING: could not find image %s') % fullsourcename\n",
    "            \n",
    "        except:\n",
    "            print('Not expected format row %s') % row[1].web_location\n",
    "            continue"
   ]
  },
  {
   "cell_type": "code",
   "execution_count": 11,
   "metadata": {
    "collapsed": false,
    "scrolled": false
   },
   "outputs": [
    {
     "name": "stdout",
     "output_type": "stream",
     "text": [
      "/Volumes/LZD1601/benthoz2015/BENTHOZ-2015-imagelist.csv\n",
      "processing entry 0\n",
      "from /media/water/PROCESSED_DATA/PS201012/r20101217_021510_fingal_07_dense_fihpz_b/i20101217_021510_cv/PR_20101217_025403_165_LC16.png ---> /Volumes/LZD1601/benthoz2015/PS201012\n",
      "Not expected format row web_location\n",
      "Making dir /Volumes/LZD1601/benthoz2015/SolitaryIs201208.\n",
      "Making dir /Volumes/LZD1601/benthoz2015/PS201211.\n",
      "Making dir /Volumes/LZD1601/benthoz2015/Batemans201211.\n",
      "processing entry 1000\n",
      "from /media/water/PROCESSED_DATA/Batemans201211/r20121128_225241_Lilli_Pilli_LP_DG2_06_dense/i20121128_225241_cv/PR_20121129_003910_774_LC16.png ---> /Volumes/LZD1601/benthoz2015/Batemans201211\n",
      "processing entry 2000\n",
      "from /media/water/PROCESSED_DATA/PS201211/r20121112_202334_fingal_pssz2_04_dense/i20121112_202334_cv/PR_20121112_215628_685_LC16.png ---> /Volumes/LZD1601/benthoz2015/PS201211\n",
      "Not expected format row web_location\n",
      "Making dir /Volumes/LZD1601/benthoz2015/SEQueensland201010.\n",
      "processing entry 3000\n",
      "from /media/water/PROCESSED_DATA/SEQueensland201010/r20101021_035013_hendersonSth_04_broad/i20101021_035013_cv/PR_20101021_052613_964_LC16.png ---> /Volumes/LZD1601/benthoz2015/SEQueensland201010\n",
      "Not expected format row web_location\n",
      "Making dir /Volumes/LZD1601/benthoz2015/Tasmania200810.\n",
      "processing entry 4000\n",
      "from /media/water/PROCESSED_DATA/Tasmania200810/r20081010_215228_blowhole_15_quadrep/i20081010_215228_cv/PR_20081010_225247_908_LC16.png ---> /Volumes/LZD1601/benthoz2015/Tasmania200810\n",
      "Not expected format row web_location\n",
      "Making dir /Volumes/LZD1601/benthoz2015/Tasmania200903.\n",
      "Not expected format row web_location\n",
      "Making dir /Volumes/LZD1601/benthoz2015/Tasmania200906.\n",
      "processing entry 5000\n",
      "from /media/water/PROCESSED_DATA/Tasmania200906/r20090611_131909_freycinet_mpa_04_mid_reef/i20090611_131909_cv/PR_20090611_145409_369_LC16.png ---> /Volumes/LZD1601/benthoz2015/Tasmania200906\n",
      "Not expected format row web_location\n",
      "Making dir /Volumes/LZD1601/benthoz2015/WA201104.\n",
      "processing entry 6000\n",
      "from /media/water/PROCESSED_DATA/WA201104/r20110409_060541_rottnest_06_15m_n_out/i20110409_060541_cv/PR_20110409_062832_201_LC16.png ---> /Volumes/LZD1601/benthoz2015/WA201104\n",
      "processing entry 7000\n",
      "from /media/water/PROCESSED_DATA/WA201104/r20110416_044652_coralpatches_28_15m_in/i20110416_044652_cv/PR_20110416_062054_599_LC16.png ---> /Volumes/LZD1601/benthoz2015/WA201104\n",
      "processing entry 8000\n",
      "from /media/water/PROCESSED_DATA/WA201104/r20110412_073109_jurien_15_25m_n/i20110412_073109_cv/PR_20110412_084931_505_LC16.png ---> /Volumes/LZD1601/benthoz2015/WA201104\n",
      "Not expected format row web_location\n",
      "Making dir /Volumes/LZD1601/benthoz2015/WA201204.\n",
      "processing entry 9000\n",
      "from /media/water/PROCESSED_DATA/WA201204/r20120501_033336_coralpatches_39_40m_out/i20120501_033336_cv/PR_20120501_053942_658_LC16.png ---> /Volumes/LZD1601/benthoz2015/WA201204\n",
      "Not expected format row web_location\n",
      "Making dir /Volumes/LZD1601/benthoz2015/WA201304.\n"
     ]
    }
   ],
   "source": [
    "#survey_sheet = '/Users/opizarro/max-woodside/QN01/MSA157-40_QN01.xls'\n",
    "#images_location = '/Users/opizarro/max-woodside/QN01/Stations'\n",
    "# QN02 has a different directory and file structure\n",
    "# QN08 has the same images as QN09 with the names of QN09\n",
    "#transects = {'QN01','QN03','QN04','QN05','QN06','QN07','QN08','QN09','QN10','QN11','QN12'}\n",
    "\n",
    "image_sheet = '/Volumes/LZD1601/benthoz2015/BENTHOZ-2015-imagelist.csv'\n",
    "images_location = '/Volumes/LZD1601/benthoz2015'\n",
    "print image_sheet\n",
    "get_images(image_sheet, images_location)"
   ]
  },
  {
   "cell_type": "code",
   "execution_count": null,
   "metadata": {
    "collapsed": true
   },
   "outputs": [],
   "source": [
    ""
   ]
  },
  {
   "cell_type": "code",
   "execution_count": null,
   "metadata": {
    "collapsed": true
   },
   "outputs": [],
   "source": [
    ""
   ]
  }
 ],
 "metadata": {
  "kernelspec": {
   "display_name": "Python 2",
   "language": "python",
   "name": "python2"
  },
  "language_info": {
   "codemirror_mode": {
    "name": "ipython",
    "version": 2.0
   },
   "file_extension": ".py",
   "mimetype": "text/x-python",
   "name": "python",
   "nbconvert_exporter": "python",
   "pygments_lexer": "ipython2",
   "version": "2.7.11"
  }
 },
 "nbformat": 4,
 "nbformat_minor": 0
}