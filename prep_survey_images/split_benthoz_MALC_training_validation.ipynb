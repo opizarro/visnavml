{
 "cells": [
  {
   "cell_type": "markdown",
   "metadata": {
    "deletable": true,
    "editable": true
   },
   "source": [
    "split data set into training and validation folders"
   ]
  },
  {
   "cell_type": "code",
   "execution_count": 1,
   "metadata": {
    "collapsed": false,
    "deletable": true,
    "editable": true
   },
   "outputs": [],
   "source": [
    "# create a collapsed version of classes\n",
    "\n",
    "import os\n",
    "\n",
    "import string\n",
    "import glob\n",
    "import random\n",
    "import shutil\n",
    "\n",
    "def maybe_makedir(dirname, force=False):\n",
    "  if os.path.isdir(dirname) and not force:\n",
    "    # You may override by setting force=True.\n",
    "    print('%s already present - Skipping making dir' % (dirname))\n",
    "  else:\n",
    "    print('Making dir %s.' % dirname)\n",
    "    os.makedirs(dirname)\n",
    "  return"
   ]
  },
  {
   "cell_type": "code",
   "execution_count": 2,
   "metadata": {
    "collapsed": true,
    "deletable": true,
    "editable": true
   },
   "outputs": [],
   "source": [
    "original_classes = '/Users/opizarro/training_data_kelpnokelp/benthoz_99patch_flips_balanced'\n",
    "training_dir = '/Users/opizarro/training_data_kelpnokelp/inception_refinement/training'\n",
    "validation_dir = '/Users/opizarro/training_data_kelpnokelp/inception_refinement/validation'"
   ]
  },
  {
   "cell_type": "code",
   "execution_count": null,
   "metadata": {
    "collapsed": true,
    "deletable": true,
    "editable": true
   },
   "outputs": [],
   "source": []
  },
  {
   "cell_type": "code",
   "execution_count": 4,
   "metadata": {
    "collapsed": false,
    "deletable": true,
    "editable": true
   },
   "outputs": [
    {
     "name": "stdout",
     "output_type": "stream",
     "text": [
      "{'class': 'MALC', 'examples': 162966}\n",
      "Validation examples: 32593\n",
      "Making dir /Users/opizarro/training_data_kelpnokelp/inception_refinement/validation/MALC.\n",
      "Linking validation files\n",
      "Making dir /Users/opizarro/training_data_kelpnokelp/inception_refinement/training/MALC.\n",
      "Linking training files\n",
      "{'class': 'NotMALC', 'examples': 200000}\n",
      "Validation examples: 40000\n",
      "Making dir /Users/opizarro/training_data_kelpnokelp/inception_refinement/validation/NotMALC.\n",
      "Linking validation files\n",
      "Making dir /Users/opizarro/training_data_kelpnokelp/inception_refinement/training/NotMALC.\n",
      "Linking training files\n"
     ]
    }
   ],
   "source": [
    "# number of classes\n",
    "catalog = list()\n",
    "\n",
    "val_proportion = 0.2\n",
    "\n",
    "for path, dirs, files in os.walk(original_classes):\n",
    "    \n",
    "    #print  path, \" has \", \n",
    "    #print  len(dirs), \" dirs \",\n",
    "    #print  \" and \", len(files) , \" files\"\n",
    "    if len(dirs)==0:\n",
    "        catalog.append({'class': os.path.basename(path), 'examples': len(files)})\n",
    "        print catalog[-1]\n",
    "        class_name = os.path.basename(path)\n",
    "        num_examples = len(files)\n",
    "        val_examples = int(round(val_proportion*num_examples))\n",
    "        print('Validation examples: {}'.format(val_examples))\n",
    "        train_examples = num_examples - val_examples\n",
    "       # val_indeces = random.sample(range(1,num_examples),val_examples)\n",
    "       # train_indeces = list(set(range(1,num_examples))-set(val_indices))\n",
    "       # val_files = [files[x] for x in val_indeces]\n",
    "       # train_files = [files[x] for x in train_indeces]\n",
    "        val_files = random.sample(files,val_examples)\n",
    "        train_files = list(set(files)-set(val_files))\n",
    "        val_destination = os.path.join(validation_dir,class_name)\n",
    "        maybe_makedir(val_destination)\n",
    "        print('Linking validation files')\n",
    "        for entry in val_files:\n",
    "            destination_file = os.path.join(val_destination,os.path.basename(entry))\n",
    "            source_file = os.path.join(original_classes,class_name,os.path.basename(entry))\n",
    "            os.symlink(source_file,destination_file)\n",
    "            #shutil.copyfile(source_file,destination_file)\n",
    "        train_destination = os.path.join(training_dir,class_name)\n",
    "        maybe_makedir(train_destination)\n",
    "        print('Linking training files')\n",
    "        for entry in train_files:\n",
    "            destination_file = os.path.join(train_destination,os.path.basename(entry))\n",
    "            source_file = os.path.join(original_classes,class_name,os.path.basename(entry))\n",
    "            os.symlink(source_file,destination_file)    \n",
    "        \n",
    "        \n",
    "        \n",
    "        \n",
    "        "
   ]
  },
  {
   "cell_type": "code",
   "execution_count": null,
   "metadata": {
    "collapsed": true,
    "deletable": true,
    "editable": true
   },
   "outputs": [],
   "source": []
  }
 ],
 "metadata": {
  "kernelspec": {
   "display_name": "Python 2",
   "language": "python",
   "name": "python2"
  },
  "language_info": {
   "codemirror_mode": {
    "name": "ipython",
    "version": 2
   },
   "file_extension": ".py",
   "mimetype": "text/x-python",
   "name": "python",
   "nbconvert_exporter": "python",
   "pygments_lexer": "ipython2",
   "version": "2.7.12"
  }
 },
 "nbformat": 4,
 "nbformat_minor": 0
}
