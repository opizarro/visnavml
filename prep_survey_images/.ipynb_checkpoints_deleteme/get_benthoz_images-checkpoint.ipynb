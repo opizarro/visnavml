{
 "cells": [
  {
   "cell_type": "markdown",
   "metadata": {},
   "source": [
    "preparing labels and imagery for use with tensorflow"
   ]
  },
  {
   "cell_type": "code",
   "execution_count": 2,
   "metadata": {
    "collapsed": false
   },
   "outputs": [],
   "source": [
    "# takes a set of images and labels and prepares a structure that can be fed into\n",
    "# inception v3 (which can handle imagenet 2012 inputs)\n",
    "# this involves\n",
    "# finding the coordinates of labelled points and the corresponding image\n",
    "#  cropping at most 299 x 299 pixels around each labeled point.\n",
    "# storing each cropped image in directories named after the type of label\n",
    "import pandas as pd\n",
    "import os\n",
    "import cv2\n",
    "import numpy as np\n",
    "import matplotlib.pyplot as plt\n",
    "import string\n",
    "import shutil\n",
    "import glob\n",
    "\n",
    "%matplotlib inline\n",
    "\n"
   ]
  },
  {
   "cell_type": "code",
   "execution_count": 3,
   "metadata": {
    "collapsed": false
   },
   "outputs": [],
   "source": [
    "\n",
    "\n",
    "#training_path = '/Users/opizarro/training_data/max-woodside'\n",
    "source_path = '/Volumes/LZD1601/benthoz2015'\n",
    "\n",
    "def maybe_makedir(dirname, force=False):\n",
    "  if os.path.isdir(dirname) and not force:\n",
    "    # You may override by setting force=True.\n",
    "    #print('%s already present - Skipping making dir' % (dirname))\n",
    "    pass\n",
    "  else:\n",
    "    print('Making dir %s.' % dirname)\n",
    "    os.makedirs(dirname)\n",
    "  return \n",
    "\n",
    "maybe_makedir(source_path)\n",
    "\n",
    "\n"
   ]
  },
  {
   "cell_type": "code",
   "execution_count": 4,
   "metadata": {
    "collapsed": false
   },
   "outputs": [],
   "source": [
    "image_sheet = '/Volumes/LZD1601/benthoz2015/BENTHOZ-2015-imagelist.csv'"
   ]
  },
  {
   "cell_type": "code",
   "execution_count": 5,
   "metadata": {
    "collapsed": false
   },
   "outputs": [
    {
     "data": {
      "text/html": [
       "<div style=\"max-height:1000px;max-width:1500px;overflow:auto;\">\n",
       "<table border=\"1\" class=\"dataframe\">\n",
       "  <thead>\n",
       "    <tr style=\"text-align: right;\">\n",
       "      <th></th>\n",
       "      <th>image__id</th>\n",
       "      <th>date_time</th>\n",
       "      <th>depth</th>\n",
       "      <th>web_location</th>\n",
       "      <th>latitude</th>\n",
       "      <th>longitude</th>\n",
       "    </tr>\n",
       "  </thead>\n",
       "  <tbody>\n",
       "    <tr>\n",
       "      <th>0</th>\n",
       "      <td> 1597439</td>\n",
       "      <td> 2010-12-17 02:54:03.165976+00:00</td>\n",
       "      <td> 22.3438216144707</td>\n",
       "      <td> PS201012/r20101217_021510_fingal_07_dense_fihp...</td>\n",
       "      <td>  -32.752086495</td>\n",
       "      <td> 152.205822327</td>\n",
       "    </tr>\n",
       "    <tr>\n",
       "      <th>1</th>\n",
       "      <td> 1757524</td>\n",
       "      <td> 2010-11-20 23:42:35.638467+00:00</td>\n",
       "      <td> 29.5299899885026</td>\n",
       "      <td> Batemans201011/r20101120_222627_site2guz_14_de...</td>\n",
       "      <td> -35.5659487041</td>\n",
       "      <td> 150.393561616</td>\n",
       "    </tr>\n",
       "    <tr>\n",
       "      <th>2</th>\n",
       "      <td> 1609621</td>\n",
       "      <td> 2010-12-18 21:30:49.256645+00:00</td>\n",
       "      <td> 27.0973700206649</td>\n",
       "      <td> PS201012/r20101218_202313_broughton_10_dense_b...</td>\n",
       "      <td> -32.6346530703</td>\n",
       "      <td> 152.312306698</td>\n",
       "    </tr>\n",
       "    <tr>\n",
       "      <th>3</th>\n",
       "      <td> 1595383</td>\n",
       "      <td> 2010-12-16 02:10:25.335878+00:00</td>\n",
       "      <td> 29.5453730596857</td>\n",
       "      <td> PS201012/r20101216_013637_fingal_04_dense_fisz...</td>\n",
       "      <td> -32.7536342886</td>\n",
       "      <td> 152.197251187</td>\n",
       "    </tr>\n",
       "    <tr>\n",
       "      <th>4</th>\n",
       "      <td> 1599436</td>\n",
       "      <td> 2010-12-16 02:21:43.387121+00:00</td>\n",
       "      <td> 29.0157579963744</td>\n",
       "      <td> PS201012/r20101216_013637_fingal_04_dense_fisz...</td>\n",
       "      <td> -32.7536020067</td>\n",
       "      <td> 152.197114445</td>\n",
       "    </tr>\n",
       "  </tbody>\n",
       "</table>\n",
       "</div>"
      ],
      "text/plain": [
       "  image__id                         date_time             depth  \\\n",
       "0   1597439  2010-12-17 02:54:03.165976+00:00  22.3438216144707   \n",
       "1   1757524  2010-11-20 23:42:35.638467+00:00  29.5299899885026   \n",
       "2   1609621  2010-12-18 21:30:49.256645+00:00  27.0973700206649   \n",
       "3   1595383  2010-12-16 02:10:25.335878+00:00  29.5453730596857   \n",
       "4   1599436  2010-12-16 02:21:43.387121+00:00  29.0157579963744   \n",
       "\n",
       "                                        web_location        latitude  \\\n",
       "0  PS201012/r20101217_021510_fingal_07_dense_fihp...   -32.752086495   \n",
       "1  Batemans201011/r20101120_222627_site2guz_14_de...  -35.5659487041   \n",
       "2  PS201012/r20101218_202313_broughton_10_dense_b...  -32.6346530703   \n",
       "3  PS201012/r20101216_013637_fingal_04_dense_fisz...  -32.7536342886   \n",
       "4  PS201012/r20101216_013637_fingal_04_dense_fisz...  -32.7536020067   \n",
       "\n",
       "       longitude  \n",
       "0  152.205822327  \n",
       "1  150.393561616  \n",
       "2  152.312306698  \n",
       "3  152.197251187  \n",
       "4  152.197114445  "
      ]
     },
     "execution_count": 5,
     "metadata": {},
     "output_type": "execute_result"
    }
   ],
   "source": [
    "df = pd.read_csv(image_sheet)\n",
    "df.columns\n",
    "df.head()"
   ]
  },
  {
   "cell_type": "code",
   "execution_count": 6,
   "metadata": {
    "collapsed": false
   },
   "outputs": [],
   "source": [
    "#survey_sheet = '/Users/opizarro/max-woodside/QN01/MSA157-40_QN01.xls'\n",
    "#images_location = '/Users/opizarro/max-woodside/QN01/Stations'\n",
    "\n",
    "server_loc = '/media/water/PROCESSED_DATA'\n",
    "\n",
    "def get_images(image_sheet,images_location):\n",
    "    #df = pd.read_excel(survey_sheet)\n",
    "    df = pd.read_csv(image_sheet)\n",
    "    df.head()\n",
    "       \n",
    "    \n",
    "   \n",
    "    for row in df.iterrows():\n",
    "    #print(row[1])\n",
    "    # read image\n",
    "        imagename = os.path.basename(row[1].web_location)\n",
    "        campaign_name = string.split(row[1].web_location,'/')[0]\n",
    "        dirimagename = os.path.join(images_location,campaign_name)\n",
    "        maybe_makedir(dirimagename)\n",
    "        \n",
    "        try:\n",
    "            sourcename = string.replace(row[1].web_location,\"images\",\"i2*cv\")\n",
    "        except:\n",
    "            print('Not expected format row %s') % row[1].web_location\n",
    "            continue\n",
    "        fullsourcename = glob.glob(os.path.join(server_loc,sourcename))[0]\n",
    "        if os.path.isfile(fullsourcename):\n",
    "            \n",
    "            shutil.copy(fullsourcename,dirimagename)\n",
    "            \n",
    "            if row[0]%1000 == 0:\n",
    "                print(\"processing entry \" + str(row[0]) + \"\\r\")\n",
    "                print('from %s ---> %s') % (fullsourcename,dirimagename)\n",
    "        else:\n",
    "            print('**** WARNING: could not find image %s') % fullsourcename\n",
    "            \n",
    "            \n",
    "    \n",
    "    \n"
   ]
  },
  {
   "cell_type": "code",
   "execution_count": 7,
   "metadata": {
    "collapsed": false,
    "scrolled": false
   },
   "outputs": [
    {
     "name": "stdout",
     "output_type": "stream",
     "text": [
      "/Volumes/LZD1601/benthoz2015/BENTHOZ-2015-imagelist.csv\n",
      "processing entry 0\n",
      "from /media/water/PROCESSED_DATA/PS201012/r20101217_021510_fingal_07_dense_fihpz_b/i20101217_021510_cv/PR_20101217_025403_165_LC16.png ---> /Volumes/LZD1601/benthoz2015/PS201012\n",
      "Making dir /Volumes/LZD1601/benthoz2015/web_location.\n"
     ]
    },
    {
     "ename": "IndexError",
     "evalue": "list index out of range",
     "output_type": "error",
     "traceback": [
      "\u001b[0;31m---------------------------------------------------------------------------\u001b[0m",
      "\u001b[0;31mIndexError\u001b[0m                                Traceback (most recent call last)",
      "\u001b[0;32m<ipython-input-7-e0b590cb3c29>\u001b[0m in \u001b[0;36m<module>\u001b[0;34m()\u001b[0m\n\u001b[1;32m      8\u001b[0m \u001b[0mimages_location\u001b[0m \u001b[0;34m=\u001b[0m \u001b[0;34m'/Volumes/LZD1601/benthoz2015'\u001b[0m\u001b[0;34m\u001b[0m\u001b[0m\n\u001b[1;32m      9\u001b[0m \u001b[0;32mprint\u001b[0m \u001b[0mimage_sheet\u001b[0m\u001b[0;34m\u001b[0m\u001b[0m\n\u001b[0;32m---> 10\u001b[0;31m \u001b[0mget_images\u001b[0m\u001b[0;34m(\u001b[0m\u001b[0mimage_sheet\u001b[0m\u001b[0;34m,\u001b[0m \u001b[0mimages_location\u001b[0m\u001b[0;34m)\u001b[0m\u001b[0;34m\u001b[0m\u001b[0m\n\u001b[0m\u001b[1;32m     11\u001b[0m \u001b[0;34m\u001b[0m\u001b[0m\n\u001b[1;32m     12\u001b[0m \u001b[0;34m\u001b[0m\u001b[0m\n",
      "\u001b[0;32m<ipython-input-6-bc7a865185bd>\u001b[0m in \u001b[0;36mget_images\u001b[0;34m(image_sheet, images_location)\u001b[0m\n\u001b[1;32m     21\u001b[0m \u001b[0;34m\u001b[0m\u001b[0m\n\u001b[1;32m     22\u001b[0m         \u001b[0msourcename\u001b[0m \u001b[0;34m=\u001b[0m \u001b[0mstring\u001b[0m\u001b[0;34m.\u001b[0m\u001b[0mreplace\u001b[0m\u001b[0;34m(\u001b[0m\u001b[0mrow\u001b[0m\u001b[0;34m[\u001b[0m\u001b[0;36m1\u001b[0m\u001b[0;34m]\u001b[0m\u001b[0;34m.\u001b[0m\u001b[0mweb_location\u001b[0m\u001b[0;34m,\u001b[0m\u001b[0;34m\"images\"\u001b[0m\u001b[0;34m,\u001b[0m\u001b[0;34m\"i2*cv\"\u001b[0m\u001b[0;34m)\u001b[0m\u001b[0;34m\u001b[0m\u001b[0m\n\u001b[0;32m---> 23\u001b[0;31m         \u001b[0mfullsourcename\u001b[0m \u001b[0;34m=\u001b[0m \u001b[0mglob\u001b[0m\u001b[0;34m.\u001b[0m\u001b[0mglob\u001b[0m\u001b[0;34m(\u001b[0m\u001b[0mos\u001b[0m\u001b[0;34m.\u001b[0m\u001b[0mpath\u001b[0m\u001b[0;34m.\u001b[0m\u001b[0mjoin\u001b[0m\u001b[0;34m(\u001b[0m\u001b[0mserver_loc\u001b[0m\u001b[0;34m,\u001b[0m\u001b[0msourcename\u001b[0m\u001b[0;34m)\u001b[0m\u001b[0;34m)\u001b[0m\u001b[0;34m[\u001b[0m\u001b[0;36m0\u001b[0m\u001b[0;34m]\u001b[0m\u001b[0;34m\u001b[0m\u001b[0m\n\u001b[0m\u001b[1;32m     24\u001b[0m         \u001b[0;32mif\u001b[0m \u001b[0mos\u001b[0m\u001b[0;34m.\u001b[0m\u001b[0mpath\u001b[0m\u001b[0;34m.\u001b[0m\u001b[0misfile\u001b[0m\u001b[0;34m(\u001b[0m\u001b[0mfullsourcename\u001b[0m\u001b[0;34m)\u001b[0m\u001b[0;34m:\u001b[0m\u001b[0;34m\u001b[0m\u001b[0m\n\u001b[1;32m     25\u001b[0m \u001b[0;34m\u001b[0m\u001b[0m\n",
      "\u001b[0;31mIndexError\u001b[0m: list index out of range"
     ]
    }
   ],
   "source": [
    "#survey_sheet = '/Users/opizarro/max-woodside/QN01/MSA157-40_QN01.xls'\n",
    "#images_location = '/Users/opizarro/max-woodside/QN01/Stations'\n",
    "# QN02 has a different directory and file structure\n",
    "# QN08 has the same images as QN09 with the names of QN09\n",
    "#transects = {'QN01','QN03','QN04','QN05','QN06','QN07','QN08','QN09','QN10','QN11','QN12'}\n",
    "\n",
    "image_sheet = '/Volumes/LZD1601/benthoz2015/BENTHOZ-2015-imagelist.csv'\n",
    "images_location = '/Volumes/LZD1601/benthoz2015'\n",
    "print image_sheet\n",
    "get_images(image_sheet, images_location)\n",
    "\n",
    "    \n",
    "   "
   ]
  },
  {
   "cell_type": "code",
   "execution_count": null,
   "metadata": {
    "collapsed": true
   },
   "outputs": [],
   "source": []
  },
  {
   "cell_type": "code",
   "execution_count": null,
   "metadata": {
    "collapsed": true
   },
   "outputs": [],
   "source": []
  }
 ],
 "metadata": {
  "kernelspec": {
   "display_name": "Python 2",
   "language": "python",
   "name": "python2"
  },
  "language_info": {
   "codemirror_mode": {
    "name": "ipython",
    "version": 2
   },
   "file_extension": ".py",
   "mimetype": "text/x-python",
   "name": "python",
   "nbconvert_exporter": "python",
   "pygments_lexer": "ipython2",
   "version": "2.7.11"
  }
 },
 "nbformat": 4,
 "nbformat_minor": 0
}
