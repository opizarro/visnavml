{
 "cells": [
  {
   "cell_type": "markdown",
   "metadata": {},
   "source": [
    "preparing labels and imagery for use with tensorflow"
   ]
  },
  {
   "cell_type": "code",
   "execution_count": 1,
   "metadata": {
    "collapsed": false
   },
   "outputs": [],
   "source": [
    "# takes a set of images and labels and prepares a structure that can be fed into\n",
    "# inception v3 (which can handle imagenet 2012 inputs)\n",
    "# this involves\n",
    "# finding the coordinates of labelled points and the corresponding image\n",
    "#  cropping at most 299 x 299 pixels around each labeled point.\n",
    "# storing each cropped image in directories named after the type of label\n",
    "import pandas as pd\n",
    "import os\n",
    "import cv2\n",
    "import numpy as np\n",
    "import matplotlib.pyplot as plt\n",
    "\n",
    "%matplotlib inline"
   ]
  },
  {
   "cell_type": "code",
   "execution_count": 2,
   "metadata": {
    "collapsed": false,
    "scrolled": true
   },
   "outputs": [
    {
     "name": "stdout",
     "output_type": "stream",
     "text": [
      "/Volumes/LZD1601/training_data/max-woodside_keras already present - Skipping making dir\n"
     ]
    }
   ],
   "source": [
    "#training_path = '/Users/opizarro/training_data/max-woodside'\n",
    "training_path = '/Volumes/LZD1601/training_data/max-woodside_keras'\n",
    "\n",
    "def maybe_makedir(dirname, force=False):\n",
    "  if os.path.isdir(dirname) and not force:\n",
    "    # You may override by setting force=True.\n",
    "    print('%s already present - Skipping making dir' % (dirname))\n",
    "  else:\n",
    "    print('Making dir %s.' % dirname)\n",
    "    os.makedirs(dirname)\n",
    "  return \n",
    "\n",
    "maybe_makedir(training_path)"
   ]
  },
  {
   "cell_type": "code",
   "execution_count": 3,
   "metadata": {
    "collapsed": false
   },
   "outputs": [],
   "source": [
    "def save_patch(crop_image,imagename,x,y,halfsize,imlabel,training_path):\n",
    "    # save cropped image in corresponding directory\n",
    "    crop_name = imagename + '_' + str(x) + '_' + str(y) + '_' + str(halfsize) + '.jpg'\n",
    "    fullcrop_name = os.path.join(training_path,imlabel,crop_name)\n",
    "    #print \"saving cropped image to \" + fullcrop_name\n",
    "    cv2.imwrite(fullcrop_name,crop_image)\n",
    "\n",
    "def save_patch_4rot(crop_image,imagename,x,y,halfsize,imlabel,training_path):\n",
    "    \n",
    "    (h, w) = crop_image.shape[:2]\n",
    "    center = (w / 2, h / 2)\n",
    "    \n",
    "    angles = [0,90,180,270]\n",
    "    for angle in angles:\n",
    "        M = cv2.getRotationMatrix2D(center, angle, 1.0)\n",
    "        rotated = cv2.warpAffine(crop_image, M, (w, h))\n",
    "        save_patch(rotated,imagename+'_'+str(angle),x,y,halfsize,imlabel,training_path)\n",
    "    "
   ]
  },
  {
   "cell_type": "code",
   "execution_count": null,
   "metadata": {
    "collapsed": false
   },
   "outputs": [],
   "source": []
  },
  {
   "cell_type": "code",
   "execution_count": null,
   "metadata": {
    "collapsed": false
   },
   "outputs": [],
   "source": [
    "#survey_sheet = '/Users/opizarro/max-woodside/QN01/MSA157-40_QN01.xls'\n",
    "#images_location = '/Users/opizarro/max-woodside/QN01/Stations'\n",
    "\n",
    "def process_sheet(survey_sheet, images_location):\n",
    "    df = pd.read_excel(survey_sheet)\n",
    "\n",
    "    df.head()\n",
    "#df.columns\n",
    "\n",
    "#for each row, \n",
    "#1)make a directory using Species label (if it doesn't exist already),\n",
    "#2)cut out the part of the image that corresponds to a 299x299 (at most) window around the X Y coords\n",
    "#3)save the cropped inmage into the corresponding directory\n",
    "    class_label_set = set(df['Species'])\n",
    "    print class_label_set\n",
    "    class_label_list = list(class_label_set)\n",
    "    print('Number of classes %i') % len(class_label_list)\n",
    "\n",
    "    for imclass in class_label_list:\n",
    "        maybe_makedir(os.path.join(training_path, imclass))\n",
    "    \n",
    "    image_set = set(df['PicName'])\n",
    "    suffix = '.JPG'\n",
    "    halfsize = (299-1)/2\n",
    "    padsize = halfsize\n",
    "    image_list = list(image_set)\n",
    "    print(\"Number of images %i, number of entries %i\") % (len(image_list),len(df['PicName']))\n",
    "\n",
    "    prior_imagename = ''\n",
    "    \n",
    "    for row in df.iterrows():\n",
    "    #print(row[1])\n",
    "    # read image\n",
    "        imagename = (row[1].PicName)+suffix\n",
    "        fullimagename = os.path.join(images_location,imagename)\n",
    "        #print(fullimagename)\n",
    "        if fullimagename != prior_imagename:\n",
    "            # only read image if its a different one from the one we've been using\n",
    "            image = cv2.imread(os.path.join(images_location,imagename))\n",
    "            #print image.shape\n",
    "            reflect101 = cv2.copyMakeBorder(image,padsize,padsize,padsize,padsize,cv2.BORDER_REFLECT_101)\n",
    "            prior_imagename = fullimagename\n",
    "        \n",
    "    \n",
    "        #cv2.imshow(\"original\",image)\n",
    "        #plt.figure(1)\n",
    "        #plt.imshow(image)\n",
    "        # read label\n",
    "        imlabel = row[1].Species\n",
    "        #print ('entry %s has label %s') % (imagename, imlabel)\n",
    "   \n",
    "   \n",
    "        # find centre points\n",
    "        x = row[1][9] + padsize\n",
    "        y = row[1][10] + padsize\n",
    "        xdim = row[1][3]\n",
    "        ydim = row[1][4]\n",
    "        #print('x %i, y %i, xdim %i, ydim %i') % (x,y,xdim,ydim)\n",
    "        # check dimensions correpond\n",
    "        if xdim != image.shape[1] or ydim !=image.shape[0]:\n",
    "            print('WARNING: actual image size and size in database not consistent')\n",
    "    \n",
    "    \n",
    "        # draw circle\n",
    "        #cv2.circle(image,(x,y),11,(0,255,0),-1)\n",
    "    \n",
    "        # crop around centre point\n",
    "       \n",
    "        hs = halfsize\n",
    "        # at least 81 pixels across to have some context\n",
    "        if hs == halfsize : \n",
    "            crop_image = reflect101[y-hs:y+hs+1, x-hs:x+hs+1 ]\n",
    "        \n",
    "            # save cropped image in corresponding directory\n",
    "            #crop_name = row[1].PicName + '_' + str(x) + '_' + str(y) + '.jpg'\n",
    "            #fullcrop_name = os.path.join(training_path,imlabel,crop_name)\n",
    "            #cv2.imwrite(fullcrop_name,crop_image)\n",
    "            save_patch_4rot(crop_image,imagename,x-padsize,y-padsize,halfsize,imlabel,training_path) \n",
    "            \n",
    "            if 0 and imlabel != 'Sand' and imlabel != 'Turf':\n",
    "                cutstr =  ('this dot %s has label %s') % (imagename, imlabel)\n",
    "                titstr =  ('x %i, y %i, xdim %i, ydim %i, hs %i') % (x,y,xdim,ydim,hs)\n",
    "                plt.figure(1)\n",
    "                plt.imshow(image)\n",
    "                plt.title(titstr)\n",
    "                plt.figure(2)\n",
    "                plt.imshow(crop_image)\n",
    "                plt.title(cutstr)\n",
    "        \n",
    "            if row[0]%1000 == 0:\n",
    "                print(\"processing entry \" + str(row[0]) + \"\\r\")"
   ]
  },
  {
   "cell_type": "code",
   "execution_count": null,
   "metadata": {
    "collapsed": false,
    "scrolled": false
   },
   "outputs": [
    {
     "name": "stdout",
     "output_type": "stream",
     "text": [
      "/Volumes/LZD1601/max-woodside/QN09/MSA157-40_QN09.xlsx\n",
      "set([u'Bryozoan', u'Halophila spinulosa', u'Unknown', u'Turbinaria', u'Other', u'Upright Fauna', u'Padina', u'Halophila', u'Halimeda', u'Non-Coral Fauna', u'Halodule', u'Faviid', u'RedBrown Alga', u'Seagrass', u'Mobile', u'Coral', u'Sand', u'Turf', u'Alga', u'Ascidian', u'Rubble', u'Soft Coral', u'Sponge', u'Porites', u'Gorgonian', u'Green Alga'])\n",
      "Number of classes 26\n",
      "/Volumes/LZD1601/training_data/max-woodside_keras/Bryozoan already present - Skipping making dir\n",
      "/Volumes/LZD1601/training_data/max-woodside_keras/Halophila spinulosa already present - Skipping making dir\n",
      "/Volumes/LZD1601/training_data/max-woodside_keras/Unknown already present - Skipping making dir\n",
      "/Volumes/LZD1601/training_data/max-woodside_keras/Turbinaria already present - Skipping making dir\n",
      "/Volumes/LZD1601/training_data/max-woodside_keras/Other already present - Skipping making dir\n",
      "/Volumes/LZD1601/training_data/max-woodside_keras/Upright Fauna already present - Skipping making dir\n",
      "/Volumes/LZD1601/training_data/max-woodside_keras/Padina already present - Skipping making dir\n",
      "/Volumes/LZD1601/training_data/max-woodside_keras/Halophila already present - Skipping making dir\n",
      "/Volumes/LZD1601/training_data/max-woodside_keras/Halimeda already present - Skipping making dir\n",
      "/Volumes/LZD1601/training_data/max-woodside_keras/Non-Coral Fauna already present - Skipping making dir\n",
      "/Volumes/LZD1601/training_data/max-woodside_keras/Halodule already present - Skipping making dir\n",
      "/Volumes/LZD1601/training_data/max-woodside_keras/Faviid already present - Skipping making dir\n",
      "/Volumes/LZD1601/training_data/max-woodside_keras/RedBrown Alga already present - Skipping making dir\n",
      "/Volumes/LZD1601/training_data/max-woodside_keras/Seagrass already present - Skipping making dir\n",
      "/Volumes/LZD1601/training_data/max-woodside_keras/Mobile already present - Skipping making dir\n",
      "/Volumes/LZD1601/training_data/max-woodside_keras/Coral already present - Skipping making dir\n",
      "/Volumes/LZD1601/training_data/max-woodside_keras/Sand already present - Skipping making dir\n",
      "/Volumes/LZD1601/training_data/max-woodside_keras/Turf already present - Skipping making dir\n",
      "/Volumes/LZD1601/training_data/max-woodside_keras/Alga already present - Skipping making dir\n",
      "/Volumes/LZD1601/training_data/max-woodside_keras/Ascidian already present - Skipping making dir\n",
      "/Volumes/LZD1601/training_data/max-woodside_keras/Rubble already present - Skipping making dir\n",
      "/Volumes/LZD1601/training_data/max-woodside_keras/Soft Coral already present - Skipping making dir\n",
      "/Volumes/LZD1601/training_data/max-woodside_keras/Sponge already present - Skipping making dir\n",
      "/Volumes/LZD1601/training_data/max-woodside_keras/Porites already present - Skipping making dir\n",
      "/Volumes/LZD1601/training_data/max-woodside_keras/Gorgonian already present - Skipping making dir\n",
      "/Volumes/LZD1601/training_data/max-woodside_keras/Green Alga already present - Skipping making dir\n",
      "Number of images 733, number of entries 18325\n",
      "processing entry 0\n"
     ]
    }
   ],
   "source": [
    "#survey_sheet = '/Users/opizarro/max-woodside/QN01/MSA157-40_QN01.xls'\n",
    "#images_location = '/Users/opizarro/max-woodside/QN01/Stations'\n",
    "# QN02 has a different directory and file structure\n",
    "# QN08 has the same images as QN09 with the names of QN09\n",
    "#transects = {'QN01','QN03','QN04','QN05','QN06','QN07','QN08','QN09','QN10','QN11','QN12'}\n",
    "#transects = {'QN03','QN05','QN06','QN07','QN08','QN09','QN10','QN11','QN12'}\n",
    "# working set - use this from scratch\n",
    "transects = {'QN01','QN03','QN04','QN05','QN06','QN07','QN09','QN10','QN11','QN12'}\n",
    "# partial rerun\n",
    "# QN03 stops processing around 14000\n",
    "#transects = {'QN04','QN09','QN10','QN11','QN12'}\n",
    "for tr in transects:\n",
    "    survey_sheet = '/Volumes/LZD1601/max-woodside/' + tr + '/MSA157-40_' + tr + '.xlsx'\n",
    "    images_location = '/Volumes/LZD1601/max-woodside/' + tr + '/Stations'\n",
    "    print survey_sheet\n",
    "    process_sheet(survey_sheet, images_location)"
   ]
  },
  {
   "cell_type": "code",
   "execution_count": null,
   "metadata": {
    "collapsed": true
   },
   "outputs": [],
   "source": []
  },
  {
   "cell_type": "code",
   "execution_count": null,
   "metadata": {
    "collapsed": true
   },
   "outputs": [],
   "source": []
  }
 ],
 "metadata": {
  "kernelspec": {
   "display_name": "keras",
   "language": "python",
   "name": "keras"
  },
  "language_info": {
   "codemirror_mode": {
    "name": "ipython",
    "version": 2
   },
   "file_extension": ".py",
   "mimetype": "text/x-python",
   "name": "python",
   "nbconvert_exporter": "python",
   "pygments_lexer": "ipython2",
   "version": "2.7.12"
  }
 },
 "nbformat": 4,
 "nbformat_minor": 0
}
